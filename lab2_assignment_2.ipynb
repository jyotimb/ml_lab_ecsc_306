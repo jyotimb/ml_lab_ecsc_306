{
 "cells": [
  {
   "cell_type": "code",
   "execution_count": 44,
   "metadata": {
    "scrolled": true
   },
   "outputs": [
    {
     "ename": "FileNotFoundError",
     "evalue": "[Errno 2] No such file or directory: '/home/d2/jyo.txt'",
     "output_type": "error",
     "traceback": [
      "\u001b[0;31m---------------------------------------------------------------------------\u001b[0m",
      "\u001b[0;31mFileNotFoundError\u001b[0m                         Traceback (most recent call last)",
      "\u001b[0;32m<ipython-input-44-71f8839efade>\u001b[0m in \u001b[0;36m<module>\u001b[0;34m()\u001b[0m\n\u001b[1;32m      3\u001b[0m \u001b[0;32mimport\u001b[0m \u001b[0mmatplotlib\u001b[0m\u001b[0;34m.\u001b[0m\u001b[0mpyplot\u001b[0m \u001b[0;32mas\u001b[0m \u001b[0mplt\u001b[0m\u001b[0;34m\u001b[0m\u001b[0m\n\u001b[1;32m      4\u001b[0m \u001b[0;34m\u001b[0m\u001b[0m\n\u001b[0;32m----> 5\u001b[0;31m \u001b[0mdata\u001b[0m \u001b[0;34m=\u001b[0m \u001b[0mnp\u001b[0m\u001b[0;34m.\u001b[0m\u001b[0mloadtxt\u001b[0m\u001b[0;34m(\u001b[0m\u001b[0;34m'/home/d2/jyo.txt'\u001b[0m\u001b[0;34m,\u001b[0m \u001b[0mskiprows\u001b[0m\u001b[0;34m=\u001b[0m\u001b[0;36m1\u001b[0m\u001b[0;34m)\u001b[0m\u001b[0;34m\u001b[0m\u001b[0m\n\u001b[0m\u001b[1;32m      6\u001b[0m \u001b[0;34m\u001b[0m\u001b[0m\n\u001b[1;32m      7\u001b[0m \u001b[0mX_data\u001b[0m \u001b[0;34m=\u001b[0m \u001b[0mdata\u001b[0m\u001b[0;34m[\u001b[0m\u001b[0;34m:\u001b[0m\u001b[0;34m,\u001b[0m\u001b[0;34m:\u001b[0m\u001b[0;36m2\u001b[0m\u001b[0;34m]\u001b[0m\u001b[0;34m\u001b[0m\u001b[0m\n",
      "\u001b[0;32m/Anaconda/anaconda3/lib/python3.6/site-packages/numpy/lib/npyio.py\u001b[0m in \u001b[0;36mloadtxt\u001b[0;34m(fname, dtype, comments, delimiter, converters, skiprows, usecols, unpack, ndmin)\u001b[0m\n\u001b[1;32m    896\u001b[0m                 \u001b[0mfh\u001b[0m \u001b[0;34m=\u001b[0m \u001b[0miter\u001b[0m\u001b[0;34m(\u001b[0m\u001b[0mopen\u001b[0m\u001b[0;34m(\u001b[0m\u001b[0mfname\u001b[0m\u001b[0;34m,\u001b[0m \u001b[0;34m'U'\u001b[0m\u001b[0;34m)\u001b[0m\u001b[0;34m)\u001b[0m\u001b[0;34m\u001b[0m\u001b[0m\n\u001b[1;32m    897\u001b[0m             \u001b[0;32melse\u001b[0m\u001b[0;34m:\u001b[0m\u001b[0;34m\u001b[0m\u001b[0m\n\u001b[0;32m--> 898\u001b[0;31m                 \u001b[0mfh\u001b[0m \u001b[0;34m=\u001b[0m \u001b[0miter\u001b[0m\u001b[0;34m(\u001b[0m\u001b[0mopen\u001b[0m\u001b[0;34m(\u001b[0m\u001b[0mfname\u001b[0m\u001b[0;34m)\u001b[0m\u001b[0;34m)\u001b[0m\u001b[0;34m\u001b[0m\u001b[0m\n\u001b[0m\u001b[1;32m    899\u001b[0m         \u001b[0;32melse\u001b[0m\u001b[0;34m:\u001b[0m\u001b[0;34m\u001b[0m\u001b[0m\n\u001b[1;32m    900\u001b[0m             \u001b[0mfh\u001b[0m \u001b[0;34m=\u001b[0m \u001b[0miter\u001b[0m\u001b[0;34m(\u001b[0m\u001b[0mfname\u001b[0m\u001b[0;34m)\u001b[0m\u001b[0;34m\u001b[0m\u001b[0m\n",
      "\u001b[0;31mFileNotFoundError\u001b[0m: [Errno 2] No such file or directory: '/home/d2/jyo.txt'"
     ]
    }
   ],
   "source": [
    "import tensorflow as tf\n",
    "import numpy as np\n",
    "import matplotlib.pyplot as plt\n",
    "\n",
    "data = np.loadtxt('/home/d2/jyo.txt', skiprows=1)\n",
    "\n",
    "X_data = data[:,:2]\n",
    "Y_data = data[:,2:] \n",
    "\n",
    "\n",
    "\n",
    "learning_rate = 0.02\n",
    "num_epochs = 200\n",
    "batch_size = 100\n",
    "\n",
    "x = tf.placeholder(tf.float32, [None, 2])\n",
    "y = tf.placeholder(tf.float32, [None, 1])\n",
    "\n",
    "# Model parameters\n",
    "W = tf.Variable(tf.zeros([2, 1]))\n",
    "b = tf.Variable([0.0])\n",
    "\n",
    "# Define the model\n",
    "logits = tf.matmul(x, W) + b\n",
    "\n",
    "# Loss function\n",
    "loss = tf.nn.sigmoid_cross_entropy_with_logits(labels=y, logits=logits)\n",
    "loss = tf.reduce_mean(loss)\n",
    "\n",
    "# Accuracy\n",
    "predict_op  = tf.greater_equal(logits, tf.zeros_like(logits))\n",
    "correct_op  = tf.equal(tf.cast(predict_op, tf.float32), y)\n",
    "accuracy_op = tf.reduce_mean(tf.cast(correct_op, tf.float32))\n",
    "\n",
    "# Optimizer\n",
    "optimizer = tf.train.GradientDescentOptimizer(learning_rate)\n",
    "train_op  = optimizer.minimize(loss)\n",
    "\n",
    "\n",
    "sess = tf.Session()\n",
    "sess.run(tf.global_variables_initializer())\n",
    "\n",
    "# Seed the random number generator for reproducibility\n",
    "np.random.seed(0)\n",
    "\n",
    "# Minimize the loss function\n",
    "for epoch in range(num_epochs):\n",
    "    # Present each data point once in random order\n",
    "    idx = np.random.permutation(data.shape[0])\n",
    "    for i in idx:\n",
    "        feed_dict = {x: X_data[i:i+1], y: Y_data[i:i+1]}\n",
    "        sess.run(train_op, feed_dict)\n",
    "\n",
    "    if (epoch+1) % 10 == 0:\n",
    "        feed_dict = {x: X_data, y: Y_data}\n",
    "        accuracy = sess.run(accuracy_op, feed_dict)\n",
    "        print(\"After {} epochs, cost = {}\".format(epoch+1, accuracy))\n",
    "\n",
    "# Print the result\n",
    "W_val, b_val = sess.run([W, b])\n",
    "W_val = W_val[:,0]\n",
    "b_val = b_val[0]\n",
    "print(\"W =\", W_val)\n",
    "print(\"b =\", b_val)\n",
    "\n",
    "def predict(x_):\n",
    "    return 1 * sess.run(predict_op, {x: x_})\n",
    "\n",
    "#-------------------------------------------------------------------------------\n",
    "# Figure\n",
    "#-------------------------------------------------------------------------------\n",
    "\n",
    "# Model predictions\n",
    "labels = predict(X_data)[:,0]\n",
    "\n",
    "# Find indices for the two species\n",
    "idx_0, = np.where(labels == 0)\n",
    "idx_1, = np.where(labels == 1)\n",
    "\n",
    "# Plot the data\n",
    "plt.plot(X_data[idx_0,0], X_data[idx_0,1], 'bo', label='I. fitted line')\n",
    "plt.plot(X_data[idx_1,0], X_data[idx_1,1], 'ro', label='I. original data')\n",
    "\n",
    "# Plot the separating hyperplane\n",
    "x_sep = np.linspace(X_data[:,0].min(), X_data[:,0].max())\n",
    "y_sep = (-b_val - W_val[0]*x_sep) / W_val[1]\n",
    "plt.plot(x_sep, y_sep, 'm', label=\"Decision boundary\")\n",
    "\n",
    "#plt.plot(X_data,Y_data,'ro')\n",
    "#plt.plot(X_data,sess.run(W)*X_data+sess.run(b))\n",
    "#plt.legend()\n",
    "plt.show()"
   ]
  },
  {
   "cell_type": "code",
   "execution_count": null,
   "metadata": {
    "collapsed": true
   },
   "outputs": [],
   "source": []
  },
  {
   "cell_type": "code",
   "execution_count": null,
   "metadata": {},
   "outputs": [],
   "source": []
  },
  {
   "cell_type": "code",
   "execution_count": null,
   "metadata": {},
   "outputs": [],
   "source": []
  },
  {
   "cell_type": "code",
   "execution_count": null,
   "metadata": {
    "collapsed": true
   },
   "outputs": [],
   "source": []
  },
  {
   "cell_type": "code",
   "execution_count": null,
   "metadata": {
    "collapsed": true
   },
   "outputs": [],
   "source": []
  }
 ],
 "metadata": {
  "kernelspec": {
   "display_name": "Python 3",
   "language": "python",
   "name": "python3"
  },
  "language_info": {
   "codemirror_mode": {
    "name": "ipython",
    "version": 3
   },
   "file_extension": ".py",
   "mimetype": "text/x-python",
   "name": "python",
   "nbconvert_exporter": "python",
   "pygments_lexer": "ipython3",
   "version": "3.6.1"
  }
 },
 "nbformat": 4,
 "nbformat_minor": 2
}
